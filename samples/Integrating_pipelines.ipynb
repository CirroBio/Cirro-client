{
 "cells": [
  {
   "metadata": {},
   "cell_type": "markdown",
   "source": [
    "There are some helper functions that you can use to help integrate your pipeline (or data type) into Cirro.\n",
    "\n",
    "These include:\n",
    "- File validation rules / sample matching pattern testing\n",
    "- Cirro Preprocess script & sample metadata outputs (used for preparing sample sheets for your pipeline)\n",
    "\n",
    "### File validation rules / sample matching pattern testing"
   ],
   "id": "43f739e9565104f1"
  },
  {
   "metadata": {
    "ExecuteTime": {
     "end_time": "2025-08-01T21:29:27.751902Z",
     "start_time": "2025-08-01T21:29:25.993408Z"
    }
   },
   "cell_type": "code",
   "source": [
    "from cirro import DataPortal\n",
    "\n",
    "portal = DataPortal()\n",
    "helper = portal.developer_helper"
   ],
   "id": "cfe36bf7a9147e78",
   "outputs": [],
   "execution_count": 1
  },
  {
   "metadata": {},
   "cell_type": "markdown",
   "source": "First we need to get a dataset to test against.",
   "id": "73080797b8cbb6b5"
  },
  {
   "cell_type": "code",
   "id": "initial_id",
   "metadata": {
    "collapsed": true,
    "ExecuteTime": {
     "end_time": "2025-08-01T21:39:25.049488Z",
     "start_time": "2025-08-01T21:39:22.392312Z"
    }
   },
   "source": [
    "dataset = portal.get_dataset(\n",
    "    project=\"Pipeline Development\",\n",
    "    dataset=\"Short reads for hybrid assembly 2\"\n",
    ")\n",
    "files = dataset.list_files()\n",
    "print(files)"
   ],
   "outputs": [
    {
     "name": "stdout",
     "output_type": "stream",
     "text": [
      "data/4263-B_S31_R1_001.fastq.gz (842.28 MB)\n",
      "data/4263-B_S31_R2_001.fastq.gz (808.39 MB)\n"
     ]
    }
   ],
   "execution_count": 13
  },
  {
   "metadata": {},
   "cell_type": "markdown",
   "source": [
    "We can see that the dataset has two files. We want to write a regex that will extract the sample name from the file names (4263-B).\n",
    "\n",
    "Developing a regex can be tricky, [Pythex.org](https://pythex.org/) is a great resource for the regex development since it has a cheat sheet. AI tools are also great for generating regex patterns, but you should always test them to ensure they work as expected.\n",
    "\n",
    "Name patterns are evaluated in order, so you should put the most specific patterns first."
   ],
   "id": "fe2aa7fb1d56f699"
  },
  {
   "metadata": {
    "ExecuteTime": {
     "end_time": "2025-08-01T21:39:27.893269Z",
     "start_time": "2025-08-01T21:39:27.527964Z"
    }
   },
   "cell_type": "code",
   "source": [
    "file_name_patterns = [\n",
    "    # Illumina format with no lane information\n",
    "    # Backslashes are escaped with a double backslash, which you would omit in the text field in Cirro\n",
    "    \"(?<sampleName>\\\\S*)_S(?<libraryIndex>\\\\S*)_(?<readType>R|I)(?<read>1|2|3|4)_001\\\\.fastq\\\\.gz\",\n",
    "    # You can specify multiple patterns if there are different naming conventions\n",
    "    # Fall back to a more generic pattern if the above does not match\n",
    "    \"(?<sampleName>\\\\S*)\\\\.fastq\\\\.gz\"\n",
    "]\n",
    "\n",
    "matches = helper.test_file_name_validation_for_dataset(\n",
    "    project_id=dataset.project_id,\n",
    "    dataset_id=dataset.id,\n",
    "    file_name_patterns=file_name_patterns\n",
    ")\n",
    "\n",
    "matches.print()"
   ],
   "id": "8cbc7d7b55969195",
   "outputs": [
    {
     "name": "stdout",
     "output_type": "stream",
     "text": [
      "Matches: 2\n",
      "\n",
      "data/4263-B_S31_R1_001.fastq.gz\n",
      "Sample name: 4263-B\n",
      "Matched regex: (?<sampleName>\\S*)_S(?<libraryIndex>\\S*)_(?<readType>R|I)(?<read>1|2|3|4)_001\\.fastq\\.gz\n",
      "\n",
      "data/4263-B_S31_R2_001.fastq.gz\n",
      "Sample name: 4263-B\n",
      "Matched regex: (?<sampleName>\\S*)_S(?<libraryIndex>\\S*)_(?<readType>R|I)(?<read>1|2|3|4)_001\\.fastq\\.gz\n",
      "\n"
     ]
    }
   ],
   "execution_count": 14
  },
  {
   "metadata": {},
   "cell_type": "markdown",
   "source": [
    "We can see that it has validated and extracted the sample name from the pattern.\n",
    "We can now use this pattern when creating the pipeline or data type.\n",
    "\n",
    "You can also use the `test_file_name_validation` method if you do not have a dataset to test against. This will return a list of matches for the provided file names."
   ],
   "id": "f8bd0dbda4c05e4d"
  },
  {
   "metadata": {
    "ExecuteTime": {
     "end_time": "2025-08-01T21:29:31.956116Z",
     "start_time": "2025-08-01T21:29:31.836443Z"
    }
   },
   "cell_type": "code",
   "source": [
    "matches = helper.test_file_name_validation(\n",
    "    file_name_patterns=file_name_patterns,\n",
    "    file_names=[\n",
    "        \"4263-B_S1_R1_001.fastq.gz\",\n",
    "        \"4263-B_S1_R2_001.fastq.gz\"\n",
    "    ]\n",
    ")\n",
    "matches.print()\n"
   ],
   "id": "7c819550ae3e0e5c",
   "outputs": [
    {
     "name": "stdout",
     "output_type": "stream",
     "text": [
      "Matches: 2\n",
      "\n",
      "4263-B_S1_R1_001.fastq.gz\n",
      "Sample name: 4263-B\n",
      "Matched regex: (?<sampleName>\\S*)_S(?<libraryIndex>\\S*)_(?<readType>R|I)(?<read>1|2|3|4)_001\\.fastq\\.gz\n",
      "\n",
      "4263-B_S1_R2_001.fastq.gz\n",
      "Sample name: 4263-B\n",
      "Matched regex: (?<sampleName>\\S*)_S(?<libraryIndex>\\S*)_(?<readType>R|I)(?<read>1|2|3|4)_001\\.fastq\\.gz\n",
      "\n"
     ]
    }
   ],
   "execution_count": 4
  },
  {
   "metadata": {},
   "cell_type": "markdown",
   "source": [
    "### Preprocess testing (sample sheet generation)\n",
    "\n",
    "To generate the `PreprocessDataset` object using Cirro-provided sample sheets for your pipeline, you can use the `generate_preprocess_for_input_datasets` method.\n",
    "\n",
    "You can also use `generate_samplesheets_for_dataset` method if you want to access the sample sheets directly. This could be useful if you want to generate test data to write unit tests for your Preprocess script."
   ],
   "id": "21180079c48251f0"
  },
  {
   "metadata": {
    "ExecuteTime": {
     "end_time": "2025-08-01T21:29:32.689758Z",
     "start_time": "2025-08-01T21:29:31.965209Z"
    }
   },
   "cell_type": "code",
   "source": [
    "dataset = portal.get_dataset(\n",
    "    project=\"Example Datasets\",\n",
    "    dataset=\"10X 5' Immune Profiling Libraries Pooled with Hashtags\"\n",
    ")"
   ],
   "id": "e9098ed8a36a8490",
   "outputs": [],
   "execution_count": 5
  },
  {
   "metadata": {
    "ExecuteTime": {
     "end_time": "2025-08-01T21:29:33.261318Z",
     "start_time": "2025-08-01T21:29:32.707732Z"
    }
   },
   "cell_type": "code",
   "source": [
    "ds = helper.generate_preprocess_for_input_datasets(\n",
    "    project_id=dataset.project_id,\n",
    "    input_dataset_ids=[dataset.id],\n",
    "    params={\n",
    "        'param_1': 'value_1',\n",
    "    }\n",
    ")"
   ],
   "id": "2309328aa666a49a",
   "outputs": [],
   "execution_count": 6
  },
  {
   "metadata": {},
   "cell_type": "markdown",
   "source": "We can then inspect the `PreprocessDataset` object to see the sample sheets that have been generated.",
   "id": "670822daa24e9881"
  },
  {
   "metadata": {
    "ExecuteTime": {
     "end_time": "2025-08-01T21:29:33.303054Z",
     "start_time": "2025-08-01T21:29:33.272724Z"
    }
   },
   "cell_type": "code",
   "source": "ds.samplesheet.head()",
   "id": "c173588f2d3663d6",
   "outputs": [
    {
     "data": {
      "text/plain": [
       "                                              sample  \\\n",
       "0  PBMC-ALL_60k_universal_HashAB1-4_BL_4tags_Rep1_ab   \n",
       "1  PBMC-ALL_60k_universal_HashAB1-4_BL_4tags_Rep1...   \n",
       "2  PBMC-ALL_60k_universal_HashAB1-4_BL_4tags_Rep1...   \n",
       "3  PBMC-ALL_60k_universal_HashAB1-4_BL_4tags_Rep1...   \n",
       "\n",
       "                                         grouping         feature_types  \n",
       "0  PBMC-ALL_60k_universal_HashAB1-4_BL_4tags_Rep1  Multiplexing Capture  \n",
       "1  PBMC-ALL_60k_universal_HashAB1-4_BL_4tags_Rep1                 VDJ-B  \n",
       "2  PBMC-ALL_60k_universal_HashAB1-4_BL_4tags_Rep1       Gene Expression  \n",
       "3  PBMC-ALL_60k_universal_HashAB1-4_BL_4tags_Rep1                 VDJ-T  "
      ],
      "text/html": [
       "<div>\n",
       "<style scoped>\n",
       "    .dataframe tbody tr th:only-of-type {\n",
       "        vertical-align: middle;\n",
       "    }\n",
       "\n",
       "    .dataframe tbody tr th {\n",
       "        vertical-align: top;\n",
       "    }\n",
       "\n",
       "    .dataframe thead th {\n",
       "        text-align: right;\n",
       "    }\n",
       "</style>\n",
       "<table border=\"1\" class=\"dataframe\">\n",
       "  <thead>\n",
       "    <tr style=\"text-align: right;\">\n",
       "      <th></th>\n",
       "      <th>sample</th>\n",
       "      <th>grouping</th>\n",
       "      <th>feature_types</th>\n",
       "    </tr>\n",
       "  </thead>\n",
       "  <tbody>\n",
       "    <tr>\n",
       "      <th>0</th>\n",
       "      <td>PBMC-ALL_60k_universal_HashAB1-4_BL_4tags_Rep1_ab</td>\n",
       "      <td>PBMC-ALL_60k_universal_HashAB1-4_BL_4tags_Rep1</td>\n",
       "      <td>Multiplexing Capture</td>\n",
       "    </tr>\n",
       "    <tr>\n",
       "      <th>1</th>\n",
       "      <td>PBMC-ALL_60k_universal_HashAB1-4_BL_4tags_Rep1...</td>\n",
       "      <td>PBMC-ALL_60k_universal_HashAB1-4_BL_4tags_Rep1</td>\n",
       "      <td>VDJ-B</td>\n",
       "    </tr>\n",
       "    <tr>\n",
       "      <th>2</th>\n",
       "      <td>PBMC-ALL_60k_universal_HashAB1-4_BL_4tags_Rep1...</td>\n",
       "      <td>PBMC-ALL_60k_universal_HashAB1-4_BL_4tags_Rep1</td>\n",
       "      <td>Gene Expression</td>\n",
       "    </tr>\n",
       "    <tr>\n",
       "      <th>3</th>\n",
       "      <td>PBMC-ALL_60k_universal_HashAB1-4_BL_4tags_Rep1...</td>\n",
       "      <td>PBMC-ALL_60k_universal_HashAB1-4_BL_4tags_Rep1</td>\n",
       "      <td>VDJ-T</td>\n",
       "    </tr>\n",
       "  </tbody>\n",
       "</table>\n",
       "</div>"
      ]
     },
     "execution_count": 7,
     "metadata": {},
     "output_type": "execute_result"
    }
   ],
   "execution_count": 7
  },
  {
   "metadata": {
    "ExecuteTime": {
     "end_time": "2025-08-01T21:29:33.335802Z",
     "start_time": "2025-08-01T21:29:33.331944Z"
    }
   },
   "cell_type": "code",
   "source": "ds.files.head()",
   "id": "2b9139935cad5f8c",
   "outputs": [
    {
     "data": {
      "text/plain": [
       "                                              sample  \\\n",
       "0  PBMC-ALL_60k_universal_HashAB1-4_BL_4tags_Rep1...   \n",
       "1  PBMC-ALL_60k_universal_HashAB1-4_BL_4tags_Rep1_ab   \n",
       "2  PBMC-ALL_60k_universal_HashAB1-4_BL_4tags_Rep1_ab   \n",
       "3  PBMC-ALL_60k_universal_HashAB1-4_BL_4tags_Rep1_ab   \n",
       "4  PBMC-ALL_60k_universal_HashAB1-4_BL_4tags_Rep1...   \n",
       "\n",
       "                                                file          process  \\\n",
       "0  s3://project-c05cb0bc-f472-4390-b521-f798486f8...  single-cell-10X   \n",
       "1  s3://project-c05cb0bc-f472-4390-b521-f798486f8...  single-cell-10X   \n",
       "2  s3://project-c05cb0bc-f472-4390-b521-f798486f8...  single-cell-10X   \n",
       "3  s3://project-c05cb0bc-f472-4390-b521-f798486f8...  single-cell-10X   \n",
       "4  s3://project-c05cb0bc-f472-4390-b521-f798486f8...  single-cell-10X   \n",
       "\n",
       "                                dataset  sampleIndex  read readType  \n",
       "0  b393c81b-1001-4b8c-8c79-bba690bdce04            7     2        R  \n",
       "1  b393c81b-1001-4b8c-8c79-bba690bdce04            3     2        R  \n",
       "2  b393c81b-1001-4b8c-8c79-bba690bdce04            2     1        R  \n",
       "3  b393c81b-1001-4b8c-8c79-bba690bdce04            1     1        R  \n",
       "4  b393c81b-1001-4b8c-8c79-bba690bdce04            6     1        R  "
      ],
      "text/html": [
       "<div>\n",
       "<style scoped>\n",
       "    .dataframe tbody tr th:only-of-type {\n",
       "        vertical-align: middle;\n",
       "    }\n",
       "\n",
       "    .dataframe tbody tr th {\n",
       "        vertical-align: top;\n",
       "    }\n",
       "\n",
       "    .dataframe thead th {\n",
       "        text-align: right;\n",
       "    }\n",
       "</style>\n",
       "<table border=\"1\" class=\"dataframe\">\n",
       "  <thead>\n",
       "    <tr style=\"text-align: right;\">\n",
       "      <th></th>\n",
       "      <th>sample</th>\n",
       "      <th>file</th>\n",
       "      <th>process</th>\n",
       "      <th>dataset</th>\n",
       "      <th>sampleIndex</th>\n",
       "      <th>read</th>\n",
       "      <th>readType</th>\n",
       "    </tr>\n",
       "  </thead>\n",
       "  <tbody>\n",
       "    <tr>\n",
       "      <th>0</th>\n",
       "      <td>PBMC-ALL_60k_universal_HashAB1-4_BL_4tags_Rep1...</td>\n",
       "      <td>s3://project-c05cb0bc-f472-4390-b521-f798486f8...</td>\n",
       "      <td>single-cell-10X</td>\n",
       "      <td>b393c81b-1001-4b8c-8c79-bba690bdce04</td>\n",
       "      <td>7</td>\n",
       "      <td>2</td>\n",
       "      <td>R</td>\n",
       "    </tr>\n",
       "    <tr>\n",
       "      <th>1</th>\n",
       "      <td>PBMC-ALL_60k_universal_HashAB1-4_BL_4tags_Rep1_ab</td>\n",
       "      <td>s3://project-c05cb0bc-f472-4390-b521-f798486f8...</td>\n",
       "      <td>single-cell-10X</td>\n",
       "      <td>b393c81b-1001-4b8c-8c79-bba690bdce04</td>\n",
       "      <td>3</td>\n",
       "      <td>2</td>\n",
       "      <td>R</td>\n",
       "    </tr>\n",
       "    <tr>\n",
       "      <th>2</th>\n",
       "      <td>PBMC-ALL_60k_universal_HashAB1-4_BL_4tags_Rep1_ab</td>\n",
       "      <td>s3://project-c05cb0bc-f472-4390-b521-f798486f8...</td>\n",
       "      <td>single-cell-10X</td>\n",
       "      <td>b393c81b-1001-4b8c-8c79-bba690bdce04</td>\n",
       "      <td>2</td>\n",
       "      <td>1</td>\n",
       "      <td>R</td>\n",
       "    </tr>\n",
       "    <tr>\n",
       "      <th>3</th>\n",
       "      <td>PBMC-ALL_60k_universal_HashAB1-4_BL_4tags_Rep1_ab</td>\n",
       "      <td>s3://project-c05cb0bc-f472-4390-b521-f798486f8...</td>\n",
       "      <td>single-cell-10X</td>\n",
       "      <td>b393c81b-1001-4b8c-8c79-bba690bdce04</td>\n",
       "      <td>1</td>\n",
       "      <td>1</td>\n",
       "      <td>R</td>\n",
       "    </tr>\n",
       "    <tr>\n",
       "      <th>4</th>\n",
       "      <td>PBMC-ALL_60k_universal_HashAB1-4_BL_4tags_Rep1...</td>\n",
       "      <td>s3://project-c05cb0bc-f472-4390-b521-f798486f8...</td>\n",
       "      <td>single-cell-10X</td>\n",
       "      <td>b393c81b-1001-4b8c-8c79-bba690bdce04</td>\n",
       "      <td>6</td>\n",
       "      <td>1</td>\n",
       "      <td>R</td>\n",
       "    </tr>\n",
       "  </tbody>\n",
       "</table>\n",
       "</div>"
      ]
     },
     "execution_count": 8,
     "metadata": {},
     "output_type": "execute_result"
    }
   ],
   "execution_count": 8
  },
  {
   "metadata": {},
   "cell_type": "markdown",
   "source": [
    "You can use the two dataframes to create your own sample sheet for your pipeline. See the [Preprocess full example](https://docs.cirro.bio/pipelines/preprocess-script/#full-example) for more details on constructing your sample sheet manually.\n",
    "\n",
    "The `pivot_samplesheet` method is also available to output the typical sample sheet format used by many pipelines which work on paired-end data."
   ],
   "id": "c15e2c8c3c5b12f4"
  },
  {
   "metadata": {
    "ExecuteTime": {
     "end_time": "2025-08-01T21:29:54.188479Z",
     "start_time": "2025-08-01T21:29:54.177853Z"
    }
   },
   "cell_type": "code",
   "source": [
    "ds.pivot_samplesheet(\n",
    "    pivot_columns=['read'],  # Pivot using the read column, to become `fastq_<read>`\n",
    "    column_prefix='fastq_',  # This is typical of pipelines that work on paired-end data\n",
    "    metadata_columns=['grouping'],  # My pipeline doesn't allow any additional columns, only `grouping`\n",
    "    file_filter_predicate='readType == \"R\"'  # I only want to include read files, not index files\n",
    ")"
   ],
   "id": "2139bd0252fe761a",
   "outputs": [
    {
     "data": {
      "text/plain": [
       "                                              sample  \\\n",
       "0  PBMC-ALL_60k_universal_HashAB1-4_BL_4tags_Rep1_ab   \n",
       "1  PBMC-ALL_60k_universal_HashAB1-4_BL_4tags_Rep1_ab   \n",
       "2  PBMC-ALL_60k_universal_HashAB1-4_BL_4tags_Rep1_ab   \n",
       "3  PBMC-ALL_60k_universal_HashAB1-4_BL_4tags_Rep1...   \n",
       "4  PBMC-ALL_60k_universal_HashAB1-4_BL_4tags_Rep1...   \n",
       "5  PBMC-ALL_60k_universal_HashAB1-4_BL_4tags_Rep1...   \n",
       "6  PBMC-ALL_60k_universal_HashAB1-4_BL_4tags_Rep1...   \n",
       "7  PBMC-ALL_60k_universal_HashAB1-4_BL_4tags_Rep1...   \n",
       "8  PBMC-ALL_60k_universal_HashAB1-4_BL_4tags_Rep1...   \n",
       "\n",
       "                                             fastq_1  \\\n",
       "0  s3://project-c05cb0bc-f472-4390-b521-f798486f8...   \n",
       "1  s3://project-c05cb0bc-f472-4390-b521-f798486f8...   \n",
       "2  s3://project-c05cb0bc-f472-4390-b521-f798486f8...   \n",
       "3  s3://project-c05cb0bc-f472-4390-b521-f798486f8...   \n",
       "4  s3://project-c05cb0bc-f472-4390-b521-f798486f8...   \n",
       "5  s3://project-c05cb0bc-f472-4390-b521-f798486f8...   \n",
       "6  s3://project-c05cb0bc-f472-4390-b521-f798486f8...   \n",
       "7  s3://project-c05cb0bc-f472-4390-b521-f798486f8...   \n",
       "8  s3://project-c05cb0bc-f472-4390-b521-f798486f8...   \n",
       "\n",
       "                                             fastq_2  \\\n",
       "0  s3://project-c05cb0bc-f472-4390-b521-f798486f8...   \n",
       "1  s3://project-c05cb0bc-f472-4390-b521-f798486f8...   \n",
       "2  s3://project-c05cb0bc-f472-4390-b521-f798486f8...   \n",
       "3  s3://project-c05cb0bc-f472-4390-b521-f798486f8...   \n",
       "4  s3://project-c05cb0bc-f472-4390-b521-f798486f8...   \n",
       "5  s3://project-c05cb0bc-f472-4390-b521-f798486f8...   \n",
       "6  s3://project-c05cb0bc-f472-4390-b521-f798486f8...   \n",
       "7  s3://project-c05cb0bc-f472-4390-b521-f798486f8...   \n",
       "8  s3://project-c05cb0bc-f472-4390-b521-f798486f8...   \n",
       "\n",
       "                                         grouping  \n",
       "0  PBMC-ALL_60k_universal_HashAB1-4_BL_4tags_Rep1  \n",
       "1  PBMC-ALL_60k_universal_HashAB1-4_BL_4tags_Rep1  \n",
       "2  PBMC-ALL_60k_universal_HashAB1-4_BL_4tags_Rep1  \n",
       "3  PBMC-ALL_60k_universal_HashAB1-4_BL_4tags_Rep1  \n",
       "4  PBMC-ALL_60k_universal_HashAB1-4_BL_4tags_Rep1  \n",
       "5  PBMC-ALL_60k_universal_HashAB1-4_BL_4tags_Rep1  \n",
       "6  PBMC-ALL_60k_universal_HashAB1-4_BL_4tags_Rep1  \n",
       "7  PBMC-ALL_60k_universal_HashAB1-4_BL_4tags_Rep1  \n",
       "8  PBMC-ALL_60k_universal_HashAB1-4_BL_4tags_Rep1  "
      ],
      "text/html": [
       "<div>\n",
       "<style scoped>\n",
       "    .dataframe tbody tr th:only-of-type {\n",
       "        vertical-align: middle;\n",
       "    }\n",
       "\n",
       "    .dataframe tbody tr th {\n",
       "        vertical-align: top;\n",
       "    }\n",
       "\n",
       "    .dataframe thead th {\n",
       "        text-align: right;\n",
       "    }\n",
       "</style>\n",
       "<table border=\"1\" class=\"dataframe\">\n",
       "  <thead>\n",
       "    <tr style=\"text-align: right;\">\n",
       "      <th></th>\n",
       "      <th>sample</th>\n",
       "      <th>fastq_1</th>\n",
       "      <th>fastq_2</th>\n",
       "      <th>grouping</th>\n",
       "    </tr>\n",
       "  </thead>\n",
       "  <tbody>\n",
       "    <tr>\n",
       "      <th>0</th>\n",
       "      <td>PBMC-ALL_60k_universal_HashAB1-4_BL_4tags_Rep1_ab</td>\n",
       "      <td>s3://project-c05cb0bc-f472-4390-b521-f798486f8...</td>\n",
       "      <td>s3://project-c05cb0bc-f472-4390-b521-f798486f8...</td>\n",
       "      <td>PBMC-ALL_60k_universal_HashAB1-4_BL_4tags_Rep1</td>\n",
       "    </tr>\n",
       "    <tr>\n",
       "      <th>1</th>\n",
       "      <td>PBMC-ALL_60k_universal_HashAB1-4_BL_4tags_Rep1_ab</td>\n",
       "      <td>s3://project-c05cb0bc-f472-4390-b521-f798486f8...</td>\n",
       "      <td>s3://project-c05cb0bc-f472-4390-b521-f798486f8...</td>\n",
       "      <td>PBMC-ALL_60k_universal_HashAB1-4_BL_4tags_Rep1</td>\n",
       "    </tr>\n",
       "    <tr>\n",
       "      <th>2</th>\n",
       "      <td>PBMC-ALL_60k_universal_HashAB1-4_BL_4tags_Rep1_ab</td>\n",
       "      <td>s3://project-c05cb0bc-f472-4390-b521-f798486f8...</td>\n",
       "      <td>s3://project-c05cb0bc-f472-4390-b521-f798486f8...</td>\n",
       "      <td>PBMC-ALL_60k_universal_HashAB1-4_BL_4tags_Rep1</td>\n",
       "    </tr>\n",
       "    <tr>\n",
       "      <th>3</th>\n",
       "      <td>PBMC-ALL_60k_universal_HashAB1-4_BL_4tags_Rep1...</td>\n",
       "      <td>s3://project-c05cb0bc-f472-4390-b521-f798486f8...</td>\n",
       "      <td>s3://project-c05cb0bc-f472-4390-b521-f798486f8...</td>\n",
       "      <td>PBMC-ALL_60k_universal_HashAB1-4_BL_4tags_Rep1</td>\n",
       "    </tr>\n",
       "    <tr>\n",
       "      <th>4</th>\n",
       "      <td>PBMC-ALL_60k_universal_HashAB1-4_BL_4tags_Rep1...</td>\n",
       "      <td>s3://project-c05cb0bc-f472-4390-b521-f798486f8...</td>\n",
       "      <td>s3://project-c05cb0bc-f472-4390-b521-f798486f8...</td>\n",
       "      <td>PBMC-ALL_60k_universal_HashAB1-4_BL_4tags_Rep1</td>\n",
       "    </tr>\n",
       "    <tr>\n",
       "      <th>5</th>\n",
       "      <td>PBMC-ALL_60k_universal_HashAB1-4_BL_4tags_Rep1...</td>\n",
       "      <td>s3://project-c05cb0bc-f472-4390-b521-f798486f8...</td>\n",
       "      <td>s3://project-c05cb0bc-f472-4390-b521-f798486f8...</td>\n",
       "      <td>PBMC-ALL_60k_universal_HashAB1-4_BL_4tags_Rep1</td>\n",
       "    </tr>\n",
       "    <tr>\n",
       "      <th>6</th>\n",
       "      <td>PBMC-ALL_60k_universal_HashAB1-4_BL_4tags_Rep1...</td>\n",
       "      <td>s3://project-c05cb0bc-f472-4390-b521-f798486f8...</td>\n",
       "      <td>s3://project-c05cb0bc-f472-4390-b521-f798486f8...</td>\n",
       "      <td>PBMC-ALL_60k_universal_HashAB1-4_BL_4tags_Rep1</td>\n",
       "    </tr>\n",
       "    <tr>\n",
       "      <th>7</th>\n",
       "      <td>PBMC-ALL_60k_universal_HashAB1-4_BL_4tags_Rep1...</td>\n",
       "      <td>s3://project-c05cb0bc-f472-4390-b521-f798486f8...</td>\n",
       "      <td>s3://project-c05cb0bc-f472-4390-b521-f798486f8...</td>\n",
       "      <td>PBMC-ALL_60k_universal_HashAB1-4_BL_4tags_Rep1</td>\n",
       "    </tr>\n",
       "    <tr>\n",
       "      <th>8</th>\n",
       "      <td>PBMC-ALL_60k_universal_HashAB1-4_BL_4tags_Rep1...</td>\n",
       "      <td>s3://project-c05cb0bc-f472-4390-b521-f798486f8...</td>\n",
       "      <td>s3://project-c05cb0bc-f472-4390-b521-f798486f8...</td>\n",
       "      <td>PBMC-ALL_60k_universal_HashAB1-4_BL_4tags_Rep1</td>\n",
       "    </tr>\n",
       "  </tbody>\n",
       "</table>\n",
       "</div>"
      ]
     },
     "execution_count": 10,
     "metadata": {},
     "output_type": "execute_result"
    }
   ],
   "execution_count": 10
  }
 ],
 "metadata": {
  "kernelspec": {
   "display_name": "Python 3",
   "language": "python",
   "name": "python3"
  },
  "language_info": {
   "codemirror_mode": {
    "name": "ipython",
    "version": 2
   },
   "file_extension": ".py",
   "mimetype": "text/x-python",
   "name": "python",
   "nbconvert_exporter": "python",
   "pygments_lexer": "ipython2",
   "version": "2.7.6"
  }
 },
 "nbformat": 4,
 "nbformat_minor": 5
}
